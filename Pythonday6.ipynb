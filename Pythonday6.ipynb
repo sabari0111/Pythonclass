{
 "cells": [
  {
   "cell_type": "code",
   "execution_count": 1,
   "id": "181bd9b0",
   "metadata": {},
   "outputs": [],
   "source": [
    "#reusing the same logic again and again\n",
    "\n"
   ]
  },
  {
   "cell_type": "code",
   "execution_count": 20,
   "id": "df39d0c0",
   "metadata": {},
   "outputs": [],
   "source": [
    "def add(a,b,c):\n",
    "    #print(a+b)\n",
    "    print(\"inside\")\n",
    "    return a+b+c\n",
    "    print(\"outside\")"
   ]
  },
  {
   "cell_type": "code",
   "execution_count": 23,
   "id": "78b2dac2",
   "metadata": {},
   "outputs": [
    {
     "name": "stdout",
     "output_type": "stream",
     "text": [
      "inside\n"
     ]
    }
   ],
   "source": [
    "b=add(5,5,5)"
   ]
  },
  {
   "cell_type": "code",
   "execution_count": 24,
   "id": "93ad8017",
   "metadata": {},
   "outputs": [
    {
     "name": "stdout",
     "output_type": "stream",
     "text": [
      "15\n"
     ]
    }
   ],
   "source": [
    "print(b)"
   ]
  },
  {
   "cell_type": "code",
   "execution_count": 30,
   "id": "c4d8f2e2",
   "metadata": {},
   "outputs": [],
   "source": [
    "def add1():\n",
    "    print(\"inside\")"
   ]
  },
  {
   "cell_type": "code",
   "execution_count": 31,
   "id": "75939c54",
   "metadata": {},
   "outputs": [
    {
     "name": "stdout",
     "output_type": "stream",
     "text": [
      "inside\n"
     ]
    }
   ],
   "source": [
    "add1()"
   ]
  },
  {
   "cell_type": "code",
   "execution_count": null,
   "id": "abca287d",
   "metadata": {},
   "outputs": [],
   "source": [
    "#Global Variable and Local Variable"
   ]
  },
  {
   "cell_type": "code",
   "execution_count": 32,
   "id": "d17ce597",
   "metadata": {},
   "outputs": [
    {
     "name": "stdout",
     "output_type": "stream",
     "text": [
      "outside\n",
      "inside\n"
     ]
    }
   ],
   "source": [
    "a=\"outside\" #global variable\n",
    "def test():\n",
    "    a=\"inside\" ##local variable\n",
    "    return a\n",
    "print(a)\n",
    "a=test()\n",
    "print(a)"
   ]
  },
  {
   "cell_type": "code",
   "execution_count": 34,
   "id": "94b4bf1b",
   "metadata": {},
   "outputs": [
    {
     "name": "stdout",
     "output_type": "stream",
     "text": [
      "outside\n",
      "outside\n",
      "outside\n"
     ]
    }
   ],
   "source": [
    "a=\"outside\" #global\n",
    "def test():\n",
    "    print(a)\n",
    "    b=\"inside\" #local\n",
    "print(a)\n",
    "test()\n",
    "print(a)"
   ]
  },
  {
   "cell_type": "code",
   "execution_count": 35,
   "id": "09e9b452",
   "metadata": {},
   "outputs": [
    {
     "name": "stdout",
     "output_type": "stream",
     "text": [
      "outside\n",
      "inside\n",
      "outside\n"
     ]
    }
   ],
   "source": [
    "a=\"outside\"  #global\n",
    "def test():\n",
    "    a=\"inside\" #local \n",
    "    print(a)\n",
    "print(a)\n",
    "test()\n",
    "print(a)"
   ]
  },
  {
   "cell_type": "code",
   "execution_count": 36,
   "id": "eadf155b",
   "metadata": {},
   "outputs": [
    {
     "name": "stdout",
     "output_type": "stream",
     "text": [
      "outside\n",
      "inside\n",
      "inside\n"
     ]
    }
   ],
   "source": [
    "a=\"outside\"  #global\n",
    "def test():\n",
    "    global a\n",
    "    a=\"inside\" #local \n",
    "    print(a)\n",
    "print(a)\n",
    "test()\n",
    "print(a)"
   ]
  },
  {
   "cell_type": "code",
   "execution_count": 37,
   "id": "65c95bd1",
   "metadata": {},
   "outputs": [
    {
     "name": "stdout",
     "output_type": "stream",
     "text": [
      "[11, 13, 15, 17, 19, 21, 23, 25, 27, 29, 31, 33, 35, 37, 39, 41, 43, 45, 47, 49, 51, 53, 55, 57, 59, 61, 63, 65, 67, 69, 71, 73, 75, 77, 79, 81, 83, 85, 87, 89, 91, 93, 95, 97, 99]\n"
     ]
    }
   ],
   "source": [
    "def get_number(start,end,how):\n",
    "    if how == \"even\":\n",
    "        check = 0\n",
    "    elif how == \"odd\":\n",
    "        check = 1\n",
    "    l = []\n",
    "    for i in range(start,end):\n",
    "        if i%2 == check:\n",
    "            l.append(i)\n",
    "    return l\n",
    "\n",
    "a=get_number(10,100, \"odd\")\n",
    "print(a)"
   ]
  },
  {
   "cell_type": "code",
   "execution_count": null,
   "id": "bbea471c",
   "metadata": {},
   "outputs": [],
   "source": []
  }
 ],
 "metadata": {
  "kernelspec": {
   "display_name": "Python 3 (ipykernel)",
   "language": "python",
   "name": "python3"
  },
  "language_info": {
   "codemirror_mode": {
    "name": "ipython",
    "version": 3
   },
   "file_extension": ".py",
   "mimetype": "text/x-python",
   "name": "python",
   "nbconvert_exporter": "python",
   "pygments_lexer": "ipython3",
   "version": "3.9.13"
  }
 },
 "nbformat": 4,
 "nbformat_minor": 5
}
