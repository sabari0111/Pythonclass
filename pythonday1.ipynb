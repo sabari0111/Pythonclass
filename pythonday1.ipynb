{
 "cells": [
  {
   "cell_type": "code",
   "execution_count": 1,
   "id": "4fc51841",
   "metadata": {},
   "outputs": [
    {
     "name": "stdout",
     "output_type": "stream",
     "text": [
      "hello\n"
     ]
    }
   ],
   "source": [
    "print(\"hello\")"
   ]
  },
  {
   "cell_type": "code",
   "execution_count": 2,
   "id": "5373d9d8",
   "metadata": {},
   "outputs": [
    {
     "name": "stdout",
     "output_type": "stream",
     "text": [
      "Hi\n",
      "Hello\n",
      "Welcome\n"
     ]
    }
   ],
   "source": [
    "print(\"Hi\")\n",
    "print(\"Hello\")\n",
    "print(\"Welcome\")"
   ]
  },
  {
   "cell_type": "code",
   "execution_count": 3,
   "id": "d57b48e3",
   "metadata": {},
   "outputs": [
    {
     "name": "stdout",
     "output_type": "stream",
     "text": [
      "Hi\n",
      "Hello\n",
      "Welcome \n"
     ]
    }
   ],
   "source": [
    "print(\"Hi\\nHello\\nWelcome \")"
   ]
  },
  {
   "cell_type": "code",
   "execution_count": 4,
   "id": "b54743e9",
   "metadata": {},
   "outputs": [
    {
     "name": "stdout",
     "output_type": "stream",
     "text": [
      "Hi\n",
      "Hello\n",
      "Welcome\n"
     ]
    }
   ],
   "source": [
    "print(\"Hi\\nHello\\nWelcome\")"
   ]
  },
  {
   "cell_type": "code",
   "execution_count": 5,
   "id": "980656c9",
   "metadata": {},
   "outputs": [
    {
     "name": "stdout",
     "output_type": "stream",
     "text": [
      "Hi\tHello\tWelcome\n"
     ]
    }
   ],
   "source": [
    "print(\"Hi\\tHello\\tWelcome\")"
   ]
  },
  {
   "cell_type": "code",
   "execution_count": 6,
   "id": "1ecc57c6",
   "metadata": {},
   "outputs": [
    {
     "data": {
      "text/plain": [
       "'\\nauthor:\\ndate:\\ndescriptiom:\\n'"
      ]
     },
     "execution_count": 6,
     "metadata": {},
     "output_type": "execute_result"
    }
   ],
   "source": [
    "\"\"\"\n",
    "author:\n",
    "date:\n",
    "descriptiom:\n",
    "\"\"\"\n"
   ]
  },
  {
   "cell_type": "code",
   "execution_count": 7,
   "id": "b0cd9bc2",
   "metadata": {},
   "outputs": [
    {
     "name": "stderr",
     "output_type": "stream",
     "text": [
      "Error has occured\n",
      "Warning\n"
     ]
    }
   ],
   "source": [
    "import logging\n",
    "logger = logging.getLogger()\n",
    "logger.error(\"Error has occured\")\n",
    "logger.critical(\"Warning\")"
   ]
  },
  {
   "cell_type": "code",
   "execution_count": 8,
   "id": "31a22108",
   "metadata": {},
   "outputs": [
    {
     "name": "stdout",
     "output_type": "stream",
     "text": [
      "dinesh is taking a python class\n"
     ]
    }
   ],
   "source": [
    "print(\"dinesh is taking a python class\")"
   ]
  },
  {
   "cell_type": "code",
   "execution_count": 9,
   "id": "820a1751",
   "metadata": {},
   "outputs": [
    {
     "name": "stdout",
     "output_type": "stream",
     "text": [
      "dinesh is taking a python class\n"
     ]
    }
   ],
   "source": [
    "a=\"dinesh is taking a python class\"\n",
    "print(a)"
   ]
  },
  {
   "cell_type": "code",
   "execution_count": 10,
   "id": "1ce2d7e4",
   "metadata": {},
   "outputs": [
    {
     "name": "stdout",
     "output_type": "stream",
     "text": [
      "test\n",
      "<class 'str'>\n",
      "True\n"
     ]
    }
   ],
   "source": [
    "a=\"test\"\n",
    "print(a)\n",
    "print(type(a))\n",
    "print(isinstance(a,str))"
   ]
  },
  {
   "cell_type": "code",
   "execution_count": 11,
   "id": "35f01209",
   "metadata": {},
   "outputs": [
    {
     "name": "stdout",
     "output_type": "stream",
     "text": [
      "123\n",
      "<class 'str'>\n",
      "True\n"
     ]
    }
   ],
   "source": [
    "a=\"123\"\n",
    "print(a)\n",
    "print(type(a))\n",
    "print(isinstance(a,str))"
   ]
  },
  {
   "cell_type": "code",
   "execution_count": 12,
   "id": "42de94b1",
   "metadata": {},
   "outputs": [
    {
     "name": "stdout",
     "output_type": "stream",
     "text": [
      "15\n",
      "['S', 'T', 'a', 'a', 'c', 'd', 'e', 'h', 'i', 'k', 'l', 'n', 'n', 'r', 'u']\n",
      "S\n",
      "u\n",
      "sachintendulkar\n",
      "SACHINTENDULKAR\n",
      "False\n",
      "False\n",
      "False\n",
      "True\n",
      "True\n"
     ]
    }
   ],
   "source": [
    "a=\"SachinTendulkar\"\n",
    "print(len(a))\n",
    "print(sorted(a))\n",
    "print(min(a))\n",
    "print(max(a))\n",
    "print(a.lower())\n",
    "print(a.upper())\n",
    "print(a.isupper())\n",
    "print(a.islower())\n",
    "print(a.isdigit())\n",
    "print(a.isalpha())\n",
    "print(a.isalnum())"
   ]
  },
  {
   "cell_type": "code",
   "execution_count": 13,
   "id": "b619a65e",
   "metadata": {},
   "outputs": [
    {
     "name": "stdout",
     "output_type": "stream",
     "text": [
      "True\n"
     ]
    }
   ],
   "source": [
    "a=\"123\"\n",
    "print(a.isdigit())"
   ]
  },
  {
   "cell_type": "code",
   "execution_count": null,
   "id": "e2abea68",
   "metadata": {},
   "outputs": [],
   "source": []
  }
 ],
 "metadata": {
  "kernelspec": {
   "display_name": "Python 3 (ipykernel)",
   "language": "python",
   "name": "python3"
  },
  "language_info": {
   "codemirror_mode": {
    "name": "ipython",
    "version": 3
   },
   "file_extension": ".py",
   "mimetype": "text/x-python",
   "name": "python",
   "nbconvert_exporter": "python",
   "pygments_lexer": "ipython3",
   "version": "3.9.13"
  }
 },
 "nbformat": 4,
 "nbformat_minor": 5
}
